{
 "cells": [
  {
   "cell_type": "markdown",
   "metadata": {
    "papermill": {
     "duration": 0.028968,
     "end_time": "2021-04-05T00:13:16.061346",
     "exception": false,
     "start_time": "2021-04-05T00:13:16.032378",
     "status": "completed"
    },
    "tags": []
   },
   "source": [
    "## Best results: 0.79904 - Top 5%"
   ]
  },
  {
   "cell_type": "code",
   "execution_count": 1,
   "metadata": {
    "_cell_guid": "b1076dfc-b9ad-4769-8c92-a6c4dae69d19",
    "_uuid": "8f2839f25d086af736a60e9eeb907d3b93b6e0e5",
    "execution": {
     "iopub.execute_input": "2021-04-05T00:13:16.116132Z",
     "iopub.status.busy": "2021-04-05T00:13:16.115460Z",
     "iopub.status.idle": "2021-04-05T00:13:17.359790Z",
     "shell.execute_reply": "2021-04-05T00:13:17.360329Z"
    },
    "papermill": {
     "duration": 1.275442,
     "end_time": "2021-04-05T00:13:17.360773",
     "exception": false,
     "start_time": "2021-04-05T00:13:16.085331",
     "status": "completed"
    },
    "tags": []
   },
   "outputs": [
    {
     "name": "stdout",
     "output_type": "stream",
     "text": [
      "/kaggle/input/titanic/train.csv\n",
      "/kaggle/input/titanic/test.csv\n",
      "/kaggle/input/titanic/gender_submission.csv\n"
     ]
    }
   ],
   "source": [
    "# This Python 3 environment comes with many helpful analytics libraries installed\n",
    "# It is defined by the kaggle/python Docker image: https://github.com/kaggle/docker-python\n",
    "# For example, here's several helpful packages to load\n",
    "\n",
    "import numpy as np # linear algebra\n",
    "import pandas as pd # data processing, CSV file I/O (e.g. pd.read_csv)\n",
    "import matplotlib.pyplot as plt\n",
    "import seaborn as sns\n",
    "from sklearn.utils import class_weight\n",
    "\n",
    "# Input data files are available in the read-only \"../input/\" directory\n",
    "# For example, running this (by clicking run or pressing Shift+Enter) will list all files under the input directory\n",
    "\n",
    "import os\n",
    "for dirname, _, filenames in os.walk('/kaggle/input'):\n",
    "    for filename in filenames:\n",
    "        print(os.path.join(dirname, filename))\n",
    "\n",
    "# You can write up to 20GB to the current directory (/kaggle/working/) that gets preserved as output when you create a version using \"Save & Run All\" \n",
    "# You can also write temporary files to /kaggle/temp/, but they won't be saved outside of the current session"
   ]
  },
  {
   "cell_type": "markdown",
   "metadata": {
    "papermill": {
     "duration": 0.023447,
     "end_time": "2021-04-05T00:13:17.408921",
     "exception": false,
     "start_time": "2021-04-05T00:13:17.385474",
     "status": "completed"
    },
    "tags": []
   },
   "source": [
    "### Import Data"
   ]
  },
  {
   "cell_type": "code",
   "execution_count": 2,
   "metadata": {
    "execution": {
     "iopub.execute_input": "2021-04-05T00:13:17.464901Z",
     "iopub.status.busy": "2021-04-05T00:13:17.464223Z",
     "iopub.status.idle": "2021-04-05T00:13:17.522734Z",
     "shell.execute_reply": "2021-04-05T00:13:17.523974Z"
    },
    "papermill": {
     "duration": 0.090905,
     "end_time": "2021-04-05T00:13:17.524162",
     "exception": false,
     "start_time": "2021-04-05T00:13:17.433257",
     "status": "completed"
    },
    "tags": []
   },
   "outputs": [
    {
     "data": {
      "text/html": [
       "<div>\n",
       "<style scoped>\n",
       "    .dataframe tbody tr th:only-of-type {\n",
       "        vertical-align: middle;\n",
       "    }\n",
       "\n",
       "    .dataframe tbody tr th {\n",
       "        vertical-align: top;\n",
       "    }\n",
       "\n",
       "    .dataframe thead th {\n",
       "        text-align: right;\n",
       "    }\n",
       "</style>\n",
       "<table border=\"1\" class=\"dataframe\">\n",
       "  <thead>\n",
       "    <tr style=\"text-align: right;\">\n",
       "      <th></th>\n",
       "      <th>PassengerId</th>\n",
       "      <th>Survived</th>\n",
       "      <th>Pclass</th>\n",
       "      <th>Name</th>\n",
       "      <th>Sex</th>\n",
       "      <th>Age</th>\n",
       "      <th>SibSp</th>\n",
       "      <th>Parch</th>\n",
       "      <th>Ticket</th>\n",
       "      <th>Fare</th>\n",
       "      <th>Cabin</th>\n",
       "      <th>Embarked</th>\n",
       "    </tr>\n",
       "  </thead>\n",
       "  <tbody>\n",
       "    <tr>\n",
       "      <th>0</th>\n",
       "      <td>1</td>\n",
       "      <td>0</td>\n",
       "      <td>3</td>\n",
       "      <td>Braund, Mr. Owen Harris</td>\n",
       "      <td>male</td>\n",
       "      <td>22.0</td>\n",
       "      <td>1</td>\n",
       "      <td>0</td>\n",
       "      <td>A/5 21171</td>\n",
       "      <td>7.2500</td>\n",
       "      <td>NaN</td>\n",
       "      <td>S</td>\n",
       "    </tr>\n",
       "    <tr>\n",
       "      <th>1</th>\n",
       "      <td>2</td>\n",
       "      <td>1</td>\n",
       "      <td>1</td>\n",
       "      <td>Cumings, Mrs. John Bradley (Florence Briggs Th...</td>\n",
       "      <td>female</td>\n",
       "      <td>38.0</td>\n",
       "      <td>1</td>\n",
       "      <td>0</td>\n",
       "      <td>PC 17599</td>\n",
       "      <td>71.2833</td>\n",
       "      <td>C85</td>\n",
       "      <td>C</td>\n",
       "    </tr>\n",
       "    <tr>\n",
       "      <th>2</th>\n",
       "      <td>3</td>\n",
       "      <td>1</td>\n",
       "      <td>3</td>\n",
       "      <td>Heikkinen, Miss. Laina</td>\n",
       "      <td>female</td>\n",
       "      <td>26.0</td>\n",
       "      <td>0</td>\n",
       "      <td>0</td>\n",
       "      <td>STON/O2. 3101282</td>\n",
       "      <td>7.9250</td>\n",
       "      <td>NaN</td>\n",
       "      <td>S</td>\n",
       "    </tr>\n",
       "    <tr>\n",
       "      <th>3</th>\n",
       "      <td>4</td>\n",
       "      <td>1</td>\n",
       "      <td>1</td>\n",
       "      <td>Futrelle, Mrs. Jacques Heath (Lily May Peel)</td>\n",
       "      <td>female</td>\n",
       "      <td>35.0</td>\n",
       "      <td>1</td>\n",
       "      <td>0</td>\n",
       "      <td>113803</td>\n",
       "      <td>53.1000</td>\n",
       "      <td>C123</td>\n",
       "      <td>S</td>\n",
       "    </tr>\n",
       "    <tr>\n",
       "      <th>4</th>\n",
       "      <td>5</td>\n",
       "      <td>0</td>\n",
       "      <td>3</td>\n",
       "      <td>Allen, Mr. William Henry</td>\n",
       "      <td>male</td>\n",
       "      <td>35.0</td>\n",
       "      <td>0</td>\n",
       "      <td>0</td>\n",
       "      <td>373450</td>\n",
       "      <td>8.0500</td>\n",
       "      <td>NaN</td>\n",
       "      <td>S</td>\n",
       "    </tr>\n",
       "  </tbody>\n",
       "</table>\n",
       "</div>"
      ],
      "text/plain": [
       "   PassengerId  Survived  Pclass  \\\n",
       "0            1         0       3   \n",
       "1            2         1       1   \n",
       "2            3         1       3   \n",
       "3            4         1       1   \n",
       "4            5         0       3   \n",
       "\n",
       "                                                Name     Sex   Age  SibSp  \\\n",
       "0                            Braund, Mr. Owen Harris    male  22.0      1   \n",
       "1  Cumings, Mrs. John Bradley (Florence Briggs Th...  female  38.0      1   \n",
       "2                             Heikkinen, Miss. Laina  female  26.0      0   \n",
       "3       Futrelle, Mrs. Jacques Heath (Lily May Peel)  female  35.0      1   \n",
       "4                           Allen, Mr. William Henry    male  35.0      0   \n",
       "\n",
       "   Parch            Ticket     Fare Cabin Embarked  \n",
       "0      0         A/5 21171   7.2500   NaN        S  \n",
       "1      0          PC 17599  71.2833   C85        C  \n",
       "2      0  STON/O2. 3101282   7.9250   NaN        S  \n",
       "3      0            113803  53.1000  C123        S  \n",
       "4      0            373450   8.0500   NaN        S  "
      ]
     },
     "execution_count": 2,
     "metadata": {},
     "output_type": "execute_result"
    }
   ],
   "source": [
    "train = pd.read_csv('../input/titanic/train.csv')\n",
    "train.head()"
   ]
  },
  {
   "cell_type": "code",
   "execution_count": 3,
   "metadata": {
    "execution": {
     "iopub.execute_input": "2021-04-05T00:13:17.585170Z",
     "iopub.status.busy": "2021-04-05T00:13:17.584457Z",
     "iopub.status.idle": "2021-04-05T00:13:17.610332Z",
     "shell.execute_reply": "2021-04-05T00:13:17.610843Z"
    },
    "papermill": {
     "duration": 0.058893,
     "end_time": "2021-04-05T00:13:17.611044",
     "exception": false,
     "start_time": "2021-04-05T00:13:17.552151",
     "status": "completed"
    },
    "tags": []
   },
   "outputs": [
    {
     "data": {
      "text/html": [
       "<div>\n",
       "<style scoped>\n",
       "    .dataframe tbody tr th:only-of-type {\n",
       "        vertical-align: middle;\n",
       "    }\n",
       "\n",
       "    .dataframe tbody tr th {\n",
       "        vertical-align: top;\n",
       "    }\n",
       "\n",
       "    .dataframe thead th {\n",
       "        text-align: right;\n",
       "    }\n",
       "</style>\n",
       "<table border=\"1\" class=\"dataframe\">\n",
       "  <thead>\n",
       "    <tr style=\"text-align: right;\">\n",
       "      <th></th>\n",
       "      <th>PassengerId</th>\n",
       "      <th>Pclass</th>\n",
       "      <th>Name</th>\n",
       "      <th>Sex</th>\n",
       "      <th>Age</th>\n",
       "      <th>SibSp</th>\n",
       "      <th>Parch</th>\n",
       "      <th>Ticket</th>\n",
       "      <th>Fare</th>\n",
       "      <th>Cabin</th>\n",
       "      <th>Embarked</th>\n",
       "    </tr>\n",
       "  </thead>\n",
       "  <tbody>\n",
       "    <tr>\n",
       "      <th>0</th>\n",
       "      <td>892</td>\n",
       "      <td>3</td>\n",
       "      <td>Kelly, Mr. James</td>\n",
       "      <td>male</td>\n",
       "      <td>34.5</td>\n",
       "      <td>0</td>\n",
       "      <td>0</td>\n",
       "      <td>330911</td>\n",
       "      <td>7.8292</td>\n",
       "      <td>NaN</td>\n",
       "      <td>Q</td>\n",
       "    </tr>\n",
       "    <tr>\n",
       "      <th>1</th>\n",
       "      <td>893</td>\n",
       "      <td>3</td>\n",
       "      <td>Wilkes, Mrs. James (Ellen Needs)</td>\n",
       "      <td>female</td>\n",
       "      <td>47.0</td>\n",
       "      <td>1</td>\n",
       "      <td>0</td>\n",
       "      <td>363272</td>\n",
       "      <td>7.0000</td>\n",
       "      <td>NaN</td>\n",
       "      <td>S</td>\n",
       "    </tr>\n",
       "    <tr>\n",
       "      <th>2</th>\n",
       "      <td>894</td>\n",
       "      <td>2</td>\n",
       "      <td>Myles, Mr. Thomas Francis</td>\n",
       "      <td>male</td>\n",
       "      <td>62.0</td>\n",
       "      <td>0</td>\n",
       "      <td>0</td>\n",
       "      <td>240276</td>\n",
       "      <td>9.6875</td>\n",
       "      <td>NaN</td>\n",
       "      <td>Q</td>\n",
       "    </tr>\n",
       "    <tr>\n",
       "      <th>3</th>\n",
       "      <td>895</td>\n",
       "      <td>3</td>\n",
       "      <td>Wirz, Mr. Albert</td>\n",
       "      <td>male</td>\n",
       "      <td>27.0</td>\n",
       "      <td>0</td>\n",
       "      <td>0</td>\n",
       "      <td>315154</td>\n",
       "      <td>8.6625</td>\n",
       "      <td>NaN</td>\n",
       "      <td>S</td>\n",
       "    </tr>\n",
       "    <tr>\n",
       "      <th>4</th>\n",
       "      <td>896</td>\n",
       "      <td>3</td>\n",
       "      <td>Hirvonen, Mrs. Alexander (Helga E Lindqvist)</td>\n",
       "      <td>female</td>\n",
       "      <td>22.0</td>\n",
       "      <td>1</td>\n",
       "      <td>1</td>\n",
       "      <td>3101298</td>\n",
       "      <td>12.2875</td>\n",
       "      <td>NaN</td>\n",
       "      <td>S</td>\n",
       "    </tr>\n",
       "  </tbody>\n",
       "</table>\n",
       "</div>"
      ],
      "text/plain": [
       "   PassengerId  Pclass                                          Name     Sex  \\\n",
       "0          892       3                              Kelly, Mr. James    male   \n",
       "1          893       3              Wilkes, Mrs. James (Ellen Needs)  female   \n",
       "2          894       2                     Myles, Mr. Thomas Francis    male   \n",
       "3          895       3                              Wirz, Mr. Albert    male   \n",
       "4          896       3  Hirvonen, Mrs. Alexander (Helga E Lindqvist)  female   \n",
       "\n",
       "    Age  SibSp  Parch   Ticket     Fare Cabin Embarked  \n",
       "0  34.5      0      0   330911   7.8292   NaN        Q  \n",
       "1  47.0      1      0   363272   7.0000   NaN        S  \n",
       "2  62.0      0      0   240276   9.6875   NaN        Q  \n",
       "3  27.0      0      0   315154   8.6625   NaN        S  \n",
       "4  22.0      1      1  3101298  12.2875   NaN        S  "
      ]
     },
     "execution_count": 3,
     "metadata": {},
     "output_type": "execute_result"
    }
   ],
   "source": [
    "test = pd.read_csv('../input/titanic/test.csv')\n",
    "test.head()"
   ]
  },
  {
   "cell_type": "code",
   "execution_count": 4,
   "metadata": {
    "execution": {
     "iopub.execute_input": "2021-04-05T00:13:17.673445Z",
     "iopub.status.busy": "2021-04-05T00:13:17.672766Z",
     "iopub.status.idle": "2021-04-05T00:13:17.676215Z",
     "shell.execute_reply": "2021-04-05T00:13:17.675503Z"
    },
    "papermill": {
     "duration": 0.037206,
     "end_time": "2021-04-05T00:13:17.676353",
     "exception": false,
     "start_time": "2021-04-05T00:13:17.639147",
     "status": "completed"
    },
    "tags": []
   },
   "outputs": [
    {
     "name": "stdout",
     "output_type": "stream",
     "text": [
      "(891, 12) (418, 11)\n"
     ]
    }
   ],
   "source": [
    "print(train.shape, test.shape)"
   ]
  },
  {
   "cell_type": "markdown",
   "metadata": {
    "papermill": {
     "duration": 0.028273,
     "end_time": "2021-04-05T00:13:17.733042",
     "exception": false,
     "start_time": "2021-04-05T00:13:17.704769",
     "status": "completed"
    },
    "tags": []
   },
   "source": [
    "### Explore Target Variable\n",
    "\n"
   ]
  },
  {
   "cell_type": "markdown",
   "metadata": {
    "papermill": {
     "duration": 0.02875,
     "end_time": "2021-04-05T00:13:17.790583",
     "exception": false,
     "start_time": "2021-04-05T00:13:17.761833",
     "status": "completed"
    },
    "tags": []
   },
   "source": [
    "**Class Imbalance**"
   ]
  },
  {
   "cell_type": "code",
   "execution_count": 5,
   "metadata": {
    "execution": {
     "iopub.execute_input": "2021-04-05T00:13:17.856876Z",
     "iopub.status.busy": "2021-04-05T00:13:17.856070Z",
     "iopub.status.idle": "2021-04-05T00:13:18.202823Z",
     "shell.execute_reply": "2021-04-05T00:13:18.202146Z"
    },
    "papermill": {
     "duration": 0.38361,
     "end_time": "2021-04-05T00:13:18.203109",
     "exception": false,
     "start_time": "2021-04-05T00:13:17.819499",
     "status": "completed"
    },
    "tags": []
   },
   "outputs": [
    {
     "data": {
      "image/png": "[encoded data removed]",
      "text/plain": [
       "<Figure size 432x288 with 1 Axes>"
      ]
     },
     "metadata": {
      "needs_background": "light"
     },
     "output_type": "display_data"
    }
   ],
   "source": [
    "train['Survived'].value_counts().plot(kind='bar')\n",
    "plt.title('Labels counts')\n",
    "plt.xlabel('Label')\n",
    "plt.ylabel('Count')\n",
    "plt.show()"
   ]
  },
  {
   "cell_type": "code",
   "execution_count": 6,
   "metadata": {
    "execution": {
     "iopub.execute_input": "2021-04-05T00:13:18.273374Z",
     "iopub.status.busy": "2021-04-05T00:13:18.272557Z",
     "iopub.status.idle": "2021-04-05T00:13:18.321240Z",
     "shell.execute_reply": "2021-04-05T00:13:18.321977Z"
    },
    "papermill": {
     "duration": 0.084656,
     "end_time": "2021-04-05T00:13:18.322156",
     "exception": false,
     "start_time": "2021-04-05T00:13:18.237500",
     "status": "completed"
    },
    "tags": []
   },
   "outputs": [
    {
     "name": "stdout",
     "output_type": "stream",
     "text": [
      "{0: 0.8114754098360656, 1: 1.3026315789473684}\n"
     ]
    },
    {
     "name": "stderr",
     "output_type": "stream",
     "text": [
      "/opt/conda/lib/python3.7/site-packages/sklearn/utils/validation.py:72: FutureWarning: Pass classes=[0 1], y=0      0\n",
      "1      1\n",
      "2      1\n",
      "3      1\n",
      "4      0\n",
      "      ..\n",
      "886    0\n",
      "887    1\n",
      "888    0\n",
      "889    1\n",
      "890    0\n",
      "Name: Survived, Length: 891, dtype: int64 as keyword args. From version 1.0 (renaming of 0.25) passing these as positional arguments will result in an error\n",
      "  \"will result in an error\", FutureWarning)\n"
     ]
    }
   ],
   "source": [
    "class_weights = class_weight.compute_class_weight('balanced',\n",
    "                                                 np.unique(train.Survived),\n",
    "                                                 train.Survived)\n",
    "class_weights = {i : class_weights[i] for i in range(len(class_weights))}\n",
    "print(class_weights)"
   ]
  },
  {
   "cell_type": "markdown",
   "metadata": {
    "papermill": {
     "duration": 0.026993,
     "end_time": "2021-04-05T00:13:18.379849",
     "exception": false,
     "start_time": "2021-04-05T00:13:18.352856",
     "status": "completed"
    },
    "tags": []
   },
   "source": [
    "# Data Preprocessing"
   ]
  },
  {
   "cell_type": "code",
   "execution_count": 7,
   "metadata": {
    "execution": {
     "iopub.execute_input": "2021-04-05T00:13:18.442835Z",
     "iopub.status.busy": "2021-04-05T00:13:18.441800Z",
     "iopub.status.idle": "2021-04-05T00:13:18.448828Z",
     "shell.execute_reply": "2021-04-05T00:13:18.450007Z"
    },
    "papermill": {
     "duration": 0.043269,
     "end_time": "2021-04-05T00:13:18.450463",
     "exception": false,
     "start_time": "2021-04-05T00:13:18.407194",
     "status": "completed"
    },
    "tags": []
   },
   "outputs": [
    {
     "name": "stdout",
     "output_type": "stream",
     "text": [
      "\n",
      "The train data size after dropping Id feature is : (891, 11) \n",
      "The test data size after dropping Id feature is : (418, 10) \n"
     ]
    }
   ],
   "source": [
    "# Save the 'PassengerId' column\n",
    "train_ID = train['PassengerId']\n",
    "test_ID = test['PassengerId']\n",
    "\n",
    "#Now drop the  'PassengerId' colum since it's unnecessary for  the prediction process.\n",
    "train.drop(\"PassengerId\", axis = 1, inplace = True)\n",
    "test.drop(\"PassengerId\", axis = 1, inplace = True)\n",
    "\n",
    "#check again the data size after dropping the 'PassengerId' variable\n",
    "print(\"\\nThe train data size after dropping Id feature is : {} \".format(train.shape)) \n",
    "print(\"The test data size after dropping Id feature is : {} \".format(test.shape))"
   ]
  },
  {
   "cell_type": "code",
   "execution_count": 8,
   "metadata": {
    "execution": {
     "iopub.execute_input": "2021-04-05T00:13:18.521428Z",
     "iopub.status.busy": "2021-04-05T00:13:18.516342Z",
     "iopub.status.idle": "2021-04-05T00:13:18.559197Z",
     "shell.execute_reply": "2021-04-05T00:13:18.559818Z"
    },
    "papermill": {
     "duration": 0.078313,
     "end_time": "2021-04-05T00:13:18.560007",
     "exception": false,
     "start_time": "2021-04-05T00:13:18.481694",
     "status": "completed"
    },
    "tags": []
   },
   "outputs": [
    {
     "data": {
      "text/html": [
       "<div>\n",
       "<style scoped>\n",
       "    .dataframe tbody tr th:only-of-type {\n",
       "        vertical-align: middle;\n",
       "    }\n",
       "\n",
       "    .dataframe tbody tr th {\n",
       "        vertical-align: top;\n",
       "    }\n",
       "\n",
       "    .dataframe thead th {\n",
       "        text-align: right;\n",
       "    }\n",
       "</style>\n",
       "<table border=\"1\" class=\"dataframe\">\n",
       "  <thead>\n",
       "    <tr style=\"text-align: right;\">\n",
       "      <th></th>\n",
       "      <th>Pclass</th>\n",
       "      <th>Name</th>\n",
       "      <th>Sex</th>\n",
       "      <th>Age</th>\n",
       "      <th>SibSp</th>\n",
       "      <th>Parch</th>\n",
       "      <th>Ticket</th>\n",
       "      <th>Fare</th>\n",
       "      <th>Cabin</th>\n",
       "      <th>Embarked</th>\n",
       "    </tr>\n",
       "  </thead>\n",
       "  <tbody>\n",
       "    <tr>\n",
       "      <th>0</th>\n",
       "      <td>3</td>\n",
       "      <td>Braund, Mr. Owen Harris</td>\n",
       "      <td>male</td>\n",
       "      <td>22.0</td>\n",
       "      <td>1</td>\n",
       "      <td>0</td>\n",
       "      <td>A/5 21171</td>\n",
       "      <td>7.2500</td>\n",
       "      <td>NaN</td>\n",
       "      <td>S</td>\n",
       "    </tr>\n",
       "    <tr>\n",
       "      <th>1</th>\n",
       "      <td>1</td>\n",
       "      <td>Cumings, Mrs. John Bradley (Florence Briggs Th...</td>\n",
       "      <td>female</td>\n",
       "      <td>38.0</td>\n",
       "      <td>1</td>\n",
       "      <td>0</td>\n",
       "      <td>PC 17599</td>\n",
       "      <td>71.2833</td>\n",
       "      <td>C85</td>\n",
       "      <td>C</td>\n",
       "    </tr>\n",
       "    <tr>\n",
       "      <th>2</th>\n",
       "      <td>3</td>\n",
       "      <td>Heikkinen, Miss. Laina</td>\n",
       "      <td>female</td>\n",
       "      <td>26.0</td>\n",
       "      <td>0</td>\n",
       "      <td>0</td>\n",
       "      <td>STON/O2. 3101282</td>\n",
       "      <td>7.9250</td>\n",
       "      <td>NaN</td>\n",
       "      <td>S</td>\n",
       "    </tr>\n",
       "    <tr>\n",
       "      <th>3</th>\n",
       "      <td>1</td>\n",
       "      <td>Futrelle, Mrs. Jacques Heath (Lily May Peel)</td>\n",
       "      <td>female</td>\n",
       "      <td>35.0</td>\n",
       "      <td>1</td>\n",
       "      <td>0</td>\n",
       "      <td>113803</td>\n",
       "      <td>53.1000</td>\n",
       "      <td>C123</td>\n",
       "      <td>S</td>\n",
       "    </tr>\n",
       "    <tr>\n",
       "      <th>4</th>\n",
       "      <td>3</td>\n",
       "      <td>Allen, Mr. William Henry</td>\n",
       "      <td>male</td>\n",
       "      <td>35.0</td>\n",
       "      <td>0</td>\n",
       "      <td>0</td>\n",
       "      <td>373450</td>\n",
       "      <td>8.0500</td>\n",
       "      <td>NaN</td>\n",
       "      <td>S</td>\n",
       "    </tr>\n",
       "    <tr>\n",
       "      <th>...</th>\n",
       "      <td>...</td>\n",
       "      <td>...</td>\n",
       "      <td>...</td>\n",
       "      <td>...</td>\n",
       "      <td>...</td>\n",
       "      <td>...</td>\n",
       "      <td>...</td>\n",
       "      <td>...</td>\n",
       "      <td>...</td>\n",
       "      <td>...</td>\n",
       "    </tr>\n",
       "    <tr>\n",
       "      <th>1304</th>\n",
       "      <td>3</td>\n",
       "      <td>Spector, Mr. Woolf</td>\n",
       "      <td>male</td>\n",
       "      <td>NaN</td>\n",
       "      <td>0</td>\n",
       "      <td>0</td>\n",
       "      <td>A.5. 3236</td>\n",
       "      <td>8.0500</td>\n",
       "      <td>NaN</td>\n",
       "      <td>S</td>\n",
       "    </tr>\n",
       "    <tr>\n",
       "      <th>1305</th>\n",
       "      <td>1</td>\n",
       "      <td>Oliva y Ocana, Dona. Fermina</td>\n",
       "      <td>female</td>\n",
       "      <td>39.0</td>\n",
       "      <td>0</td>\n",
       "      <td>0</td>\n",
       "      <td>PC 17758</td>\n",
       "      <td>108.9000</td>\n",
       "      <td>C105</td>\n",
       "      <td>C</td>\n",
       "    </tr>\n",
       "    <tr>\n",
       "      <th>1306</th>\n",
       "      <td>3</td>\n",
       "      <td>Saether, Mr. Simon Sivertsen</td>\n",
       "      <td>male</td>\n",
       "      <td>38.5</td>\n",
       "      <td>0</td>\n",
       "      <td>0</td>\n",
       "      <td>SOTON/O.Q. 3101262</td>\n",
       "      <td>7.2500</td>\n",
       "      <td>NaN</td>\n",
       "      <td>S</td>\n",
       "    </tr>\n",
       "    <tr>\n",
       "      <th>1307</th>\n",
       "      <td>3</td>\n",
       "      <td>Ware, Mr. Frederick</td>\n",
       "      <td>male</td>\n",
       "      <td>NaN</td>\n",
       "      <td>0</td>\n",
       "      <td>0</td>\n",
       "      <td>359309</td>\n",
       "      <td>8.0500</td>\n",
       "      <td>NaN</td>\n",
       "      <td>S</td>\n",
       "    </tr>\n",
       "    <tr>\n",
       "      <th>1308</th>\n",
       "      <td>3</td>\n",
       "      <td>Peter, Master. Michael J</td>\n",
       "      <td>male</td>\n",
       "      <td>NaN</td>\n",
       "      <td>1</td>\n",
       "      <td>1</td>\n",
       "      <td>2668</td>\n",
       "      <td>22.3583</td>\n",
       "      <td>NaN</td>\n",
       "      <td>C</td>\n",
       "    </tr>\n",
       "  </tbody>\n",
       "</table>\n",
       "<p>1309 rows × 10 columns</p>\n",
       "</div>"
      ],
      "text/plain": [
       "      Pclass                                               Name     Sex   Age  \\\n",
       "0          3                            Braund, Mr. Owen Harris    male  22.0   \n",
       "1          1  Cumings, Mrs. John Bradley (Florence Briggs Th...  female  38.0   \n",
       "2          3                             Heikkinen, Miss. Laina  female  26.0   \n",
       "3          1       Futrelle, Mrs. Jacques Heath (Lily May Peel)  female  35.0   \n",
       "4          3                           Allen, Mr. William Henry    male  35.0   \n",
       "...      ...                                                ...     ...   ...   \n",
       "1304       3                                 Spector, Mr. Woolf    male   NaN   \n",
       "1305       1                       Oliva y Ocana, Dona. Fermina  female  39.0   \n",
       "1306       3                       Saether, Mr. Simon Sivertsen    male  38.5   \n",
       "1307       3                                Ware, Mr. Frederick    male   NaN   \n",
       "1308       3                           Peter, Master. Michael J    male   NaN   \n",
       "\n",
       "      SibSp  Parch              Ticket      Fare Cabin Embarked  \n",
       "0         1      0           A/5 21171    7.2500   NaN        S  \n",
       "1         1      0            PC 17599   71.2833   C85        C  \n",
       "2         0      0    STON/O2. 3101282    7.9250   NaN        S  \n",
       "3         1      0              113803   53.1000  C123        S  \n",
       "4         0      0              373450    8.0500   NaN        S  \n",
       "...     ...    ...                 ...       ...   ...      ...  \n",
       "1304      0      0           A.5. 3236    8.0500   NaN        S  \n",
       "1305      0      0            PC 17758  108.9000  C105        C  \n",
       "1306      0      0  SOTON/O.Q. 3101262    7.2500   NaN        S  \n",
       "1307      0      0              359309    8.0500   NaN        S  \n",
       "1308      1      1                2668   22.3583   NaN        C  \n",
       "\n",
       "[1309 rows x 10 columns]"
      ]
     },
     "execution_count": 8,
     "metadata": {},
     "output_type": "execute_result"
    }
   ],
   "source": [
    "# Merge train set and test set\n",
    "\n",
    "ntrain = train.shape[0]\n",
    "ntest = test.shape[0]\n",
    "\n",
    "train_labels = train['Survived'].copy()\n",
    "train = train.drop('Survived', axis=1)\n",
    "\n",
    "all_data = pd.concat((train, test)).reset_index(drop=True)\n",
    "\n",
    "all_data\n"
   ]
  },
  {
   "cell_type": "code",
   "execution_count": 9,
   "metadata": {
    "execution": {
     "iopub.execute_input": "2021-04-05T00:13:18.656883Z",
     "iopub.status.busy": "2021-04-05T00:13:18.655869Z",
     "iopub.status.idle": "2021-04-05T00:13:18.686390Z",
     "shell.execute_reply": "2021-04-05T00:13:18.696743Z"
    },
    "papermill": {
     "duration": 0.078487,
     "end_time": "2021-04-05T00:13:18.697285",
     "exception": false,
     "start_time": "2021-04-05T00:13:18.618798",
     "status": "completed"
    },
    "tags": []
   },
   "outputs": [
    {
     "name": "stdout",
     "output_type": "stream",
     "text": [
      "<class 'pandas.core.frame.DataFrame'>\n",
      "RangeIndex: 1309 entries, 0 to 1308\n",
      "Data columns (total 10 columns):\n",
      " #   Column    Non-Null Count  Dtype  \n",
      "---  ------    --------------  -----  \n",
      " 0   Pclass    1309 non-null   int64  \n",
      " 1   Name      1309 non-null   object \n",
      " 2   Sex       1309 non-null   object \n",
      " 3   Age       1046 non-null   float64\n",
      " 4   SibSp     1309 non-null   int64  \n",
      " 5   Parch     1309 non-null   int64  \n",
      " 6   Ticket    1309 non-null   object \n",
      " 7   Fare      1308 non-null   float64\n",
      " 8   Cabin     295 non-null    object \n",
      " 9   Embarked  1307 non-null   object \n",
      "dtypes: float64(2), int64(3), object(5)\n",
      "memory usage: 102.4+ KB\n"
     ]
    }
   ],
   "source": [
    "all_data.info()"
   ]
  },
  {
   "cell_type": "markdown",
   "metadata": {
    "papermill": {
     "duration": 0.049881,
     "end_time": "2021-04-05T00:13:18.797375",
     "exception": false,
     "start_time": "2021-04-05T00:13:18.747494",
     "status": "completed"
    },
    "tags": []
   },
   "source": [
    "### Numerical variables"
   ]
  },
  {
   "cell_type": "code",
   "execution_count": 10,
   "metadata": {
    "execution": {
     "iopub.execute_input": "2021-04-05T00:13:18.900497Z",
     "iopub.status.busy": "2021-04-05T00:13:18.899802Z",
     "iopub.status.idle": "2021-04-05T00:13:18.920766Z",
     "shell.execute_reply": "2021-04-05T00:13:18.921399Z"
    },
    "papermill": {
     "duration": 0.089211,
     "end_time": "2021-04-05T00:13:18.921770",
     "exception": false,
     "start_time": "2021-04-05T00:13:18.832559",
     "status": "completed"
    },
    "tags": []
   },
   "outputs": [
    {
     "data": {
      "text/html": [
       "<div>\n",
       "<style scoped>\n",
       "    .dataframe tbody tr th:only-of-type {\n",
       "        vertical-align: middle;\n",
       "    }\n",
       "\n",
       "    .dataframe tbody tr th {\n",
       "        vertical-align: top;\n",
       "    }\n",
       "\n",
       "    .dataframe thead th {\n",
       "        text-align: right;\n",
       "    }\n",
       "</style>\n",
       "<table border=\"1\" class=\"dataframe\">\n",
       "  <thead>\n",
       "    <tr style=\"text-align: right;\">\n",
       "      <th></th>\n",
       "      <th>Pclass</th>\n",
       "      <th>Age</th>\n",
       "      <th>SibSp</th>\n",
       "      <th>Parch</th>\n",
       "      <th>Fare</th>\n",
       "    </tr>\n",
       "  </thead>\n",
       "  <tbody>\n",
       "    <tr>\n",
       "      <th>0</th>\n",
       "      <td>3</td>\n",
       "      <td>22.0</td>\n",
       "      <td>1</td>\n",
       "      <td>0</td>\n",
       "      <td>7.2500</td>\n",
       "    </tr>\n",
       "    <tr>\n",
       "      <th>1</th>\n",
       "      <td>1</td>\n",
       "      <td>38.0</td>\n",
       "      <td>1</td>\n",
       "      <td>0</td>\n",
       "      <td>71.2833</td>\n",
       "    </tr>\n",
       "    <tr>\n",
       "      <th>2</th>\n",
       "      <td>3</td>\n",
       "      <td>26.0</td>\n",
       "      <td>0</td>\n",
       "      <td>0</td>\n",
       "      <td>7.9250</td>\n",
       "    </tr>\n",
       "    <tr>\n",
       "      <th>3</th>\n",
       "      <td>1</td>\n",
       "      <td>35.0</td>\n",
       "      <td>1</td>\n",
       "      <td>0</td>\n",
       "      <td>53.1000</td>\n",
       "    </tr>\n",
       "    <tr>\n",
       "      <th>4</th>\n",
       "      <td>3</td>\n",
       "      <td>35.0</td>\n",
       "      <td>0</td>\n",
       "      <td>0</td>\n",
       "      <td>8.0500</td>\n",
       "    </tr>\n",
       "    <tr>\n",
       "      <th>...</th>\n",
       "      <td>...</td>\n",
       "      <td>...</td>\n",
       "      <td>...</td>\n",
       "      <td>...</td>\n",
       "      <td>...</td>\n",
       "    </tr>\n",
       "    <tr>\n",
       "      <th>1304</th>\n",
       "      <td>3</td>\n",
       "      <td>NaN</td>\n",
       "      <td>0</td>\n",
       "      <td>0</td>\n",
       "      <td>8.0500</td>\n",
       "    </tr>\n",
       "    <tr>\n",
       "      <th>1305</th>\n",
       "      <td>1</td>\n",
       "      <td>39.0</td>\n",
       "      <td>0</td>\n",
       "      <td>0</td>\n",
       "      <td>108.9000</td>\n",
       "    </tr>\n",
       "    <tr>\n",
       "      <th>1306</th>\n",
       "      <td>3</td>\n",
       "      <td>38.5</td>\n",
       "      <td>0</td>\n",
       "      <td>0</td>\n",
       "      <td>7.2500</td>\n",
       "    </tr>\n",
       "    <tr>\n",
       "      <th>1307</th>\n",
       "      <td>3</td>\n",
       "      <td>NaN</td>\n",
       "      <td>0</td>\n",
       "      <td>0</td>\n",
       "      <td>8.0500</td>\n",
       "    </tr>\n",
       "    <tr>\n",
       "      <th>1308</th>\n",
       "      <td>3</td>\n",
       "      <td>NaN</td>\n",
       "      <td>1</td>\n",
       "      <td>1</td>\n",
       "      <td>22.3583</td>\n",
       "    </tr>\n",
       "  </tbody>\n",
       "</table>\n",
       "<p>1309 rows × 5 columns</p>\n",
       "</div>"
      ],
      "text/plain": [
       "      Pclass   Age  SibSp  Parch      Fare\n",
       "0          3  22.0      1      0    7.2500\n",
       "1          1  38.0      1      0   71.2833\n",
       "2          3  26.0      0      0    7.9250\n",
       "3          1  35.0      1      0   53.1000\n",
       "4          3  35.0      0      0    8.0500\n",
       "...      ...   ...    ...    ...       ...\n",
       "1304       3   NaN      0      0    8.0500\n",
       "1305       1  39.0      0      0  108.9000\n",
       "1306       3  38.5      0      0    7.2500\n",
       "1307       3   NaN      0      0    8.0500\n",
       "1308       3   NaN      1      1   22.3583\n",
       "\n",
       "[1309 rows x 5 columns]"
      ]
     },
     "execution_count": 10,
     "metadata": {},
     "output_type": "execute_result"
    }
   ],
   "source": [
    "all_data_num = all_data.select_dtypes(exclude=['object'])\n",
    "all_data_num"
   ]
  },
  {
   "cell_type": "markdown",
   "metadata": {
    "papermill": {
     "duration": 0.032615,
     "end_time": "2021-04-05T00:13:18.989584",
     "exception": false,
     "start_time": "2021-04-05T00:13:18.956969",
     "status": "completed"
    },
    "tags": []
   },
   "source": [
    "### Categorical variables\n"
   ]
  },
  {
   "cell_type": "code",
   "execution_count": 11,
   "metadata": {
    "execution": {
     "iopub.execute_input": "2021-04-05T00:13:19.075939Z",
     "iopub.status.busy": "2021-04-05T00:13:19.075241Z",
     "iopub.status.idle": "2021-04-05T00:13:19.078607Z",
     "shell.execute_reply": "2021-04-05T00:13:19.079409Z"
    },
    "papermill": {
     "duration": 0.056251,
     "end_time": "2021-04-05T00:13:19.079584",
     "exception": false,
     "start_time": "2021-04-05T00:13:19.023333",
     "status": "completed"
    },
    "tags": []
   },
   "outputs": [
    {
     "data": {
      "text/html": [
       "<div>\n",
       "<style scoped>\n",
       "    .dataframe tbody tr th:only-of-type {\n",
       "        vertical-align: middle;\n",
       "    }\n",
       "\n",
       "    .dataframe tbody tr th {\n",
       "        vertical-align: top;\n",
       "    }\n",
       "\n",
       "    .dataframe thead th {\n",
       "        text-align: right;\n",
       "    }\n",
       "</style>\n",
       "<table border=\"1\" class=\"dataframe\">\n",
       "  <thead>\n",
       "    <tr style=\"text-align: right;\">\n",
       "      <th></th>\n",
       "      <th>Name</th>\n",
       "      <th>Sex</th>\n",
       "      <th>Ticket</th>\n",
       "      <th>Cabin</th>\n",
       "      <th>Embarked</th>\n",
       "    </tr>\n",
       "  </thead>\n",
       "  <tbody>\n",
       "    <tr>\n",
       "      <th>0</th>\n",
       "      <td>Braund, Mr. Owen Harris</td>\n",
       "      <td>male</td>\n",
       "      <td>A/5 21171</td>\n",
       "      <td>NaN</td>\n",
       "      <td>S</td>\n",
       "    </tr>\n",
       "    <tr>\n",
       "      <th>1</th>\n",
       "      <td>Cumings, Mrs. John Bradley (Florence Briggs Th...</td>\n",
       "      <td>female</td>\n",
       "      <td>PC 17599</td>\n",
       "      <td>C85</td>\n",
       "      <td>C</td>\n",
       "    </tr>\n",
       "    <tr>\n",
       "      <th>2</th>\n",
       "      <td>Heikkinen, Miss. Laina</td>\n",
       "      <td>female</td>\n",
       "      <td>STON/O2. 3101282</td>\n",
       "      <td>NaN</td>\n",
       "      <td>S</td>\n",
       "    </tr>\n",
       "    <tr>\n",
       "      <th>3</th>\n",
       "      <td>Futrelle, Mrs. Jacques Heath (Lily May Peel)</td>\n",
       "      <td>female</td>\n",
       "      <td>113803</td>\n",
       "      <td>C123</td>\n",
       "      <td>S</td>\n",
       "    </tr>\n",
       "    <tr>\n",
       "      <th>4</th>\n",
       "      <td>Allen, Mr. William Henry</td>\n",
       "      <td>male</td>\n",
       "      <td>373450</td>\n",
       "      <td>NaN</td>\n",
       "      <td>S</td>\n",
       "    </tr>\n",
       "    <tr>\n",
       "      <th>...</th>\n",
       "      <td>...</td>\n",
       "      <td>...</td>\n",
       "      <td>...</td>\n",
       "      <td>...</td>\n",
       "      <td>...</td>\n",
       "    </tr>\n",
       "    <tr>\n",
       "      <th>1304</th>\n",
       "      <td>Spector, Mr. Woolf</td>\n",
       "      <td>male</td>\n",
       "      <td>A.5. 3236</td>\n",
       "      <td>NaN</td>\n",
       "      <td>S</td>\n",
       "    </tr>\n",
       "    <tr>\n",
       "      <th>1305</th>\n",
       "      <td>Oliva y Ocana, Dona. Fermina</td>\n",
       "      <td>female</td>\n",
       "      <td>PC 17758</td>\n",
       "      <td>C105</td>\n",
       "      <td>C</td>\n",
       "    </tr>\n",
       "    <tr>\n",
       "      <th>1306</th>\n",
       "      <td>Saether, Mr. Simon Sivertsen</td>\n",
       "      <td>male</td>\n",
       "      <td>SOTON/O.Q. 3101262</td>\n",
       "      <td>NaN</td>\n",
       "      <td>S</td>\n",
       "    </tr>\n",
       "    <tr>\n",
       "      <th>1307</th>\n",
       "      <td>Ware, Mr. Frederick</td>\n",
       "      <td>male</td>\n",
       "      <td>359309</td>\n",
       "      <td>NaN</td>\n",
       "      <td>S</td>\n",
       "    </tr>\n",
       "    <tr>\n",
       "      <th>1308</th>\n",
       "      <td>Peter, Master. Michael J</td>\n",
       "      <td>male</td>\n",
       "      <td>2668</td>\n",
       "      <td>NaN</td>\n",
       "      <td>C</td>\n",
       "    </tr>\n",
       "  </tbody>\n",
       "</table>\n",
       "<p>1309 rows × 5 columns</p>\n",
       "</div>"
      ],
      "text/plain": [
       "                                                   Name     Sex  \\\n",
       "0                               Braund, Mr. Owen Harris    male   \n",
       "1     Cumings, Mrs. John Bradley (Florence Briggs Th...  female   \n",
       "2                                Heikkinen, Miss. Laina  female   \n",
       "3          Futrelle, Mrs. Jacques Heath (Lily May Peel)  female   \n",
       "4                              Allen, Mr. William Henry    male   \n",
       "...                                                 ...     ...   \n",
       "1304                                 Spector, Mr. Woolf    male   \n",
       "1305                       Oliva y Ocana, Dona. Fermina  female   \n",
       "1306                       Saether, Mr. Simon Sivertsen    male   \n",
       "1307                                Ware, Mr. Frederick    male   \n",
       "1308                           Peter, Master. Michael J    male   \n",
       "\n",
       "                  Ticket Cabin Embarked  \n",
       "0              A/5 21171   NaN        S  \n",
       "1               PC 17599   C85        C  \n",
       "2       STON/O2. 3101282   NaN        S  \n",
       "3                 113803  C123        S  \n",
       "4                 373450   NaN        S  \n",
       "...                  ...   ...      ...  \n",
       "1304           A.5. 3236   NaN        S  \n",
       "1305            PC 17758  C105        C  \n",
       "1306  SOTON/O.Q. 3101262   NaN        S  \n",
       "1307              359309   NaN        S  \n",
       "1308                2668   NaN        C  \n",
       "\n",
       "[1309 rows x 5 columns]"
      ]
     },
     "execution_count": 11,
     "metadata": {},
     "output_type": "execute_result"
    }
   ],
   "source": [
    "all_data_cat = all_data.select_dtypes(include=['object'])\n",
    "all_data_cat"
   ]
  },
  {
   "cell_type": "markdown",
   "metadata": {
    "papermill": {
     "duration": 0.032781,
     "end_time": "2021-04-05T00:13:19.145836",
     "exception": false,
     "start_time": "2021-04-05T00:13:19.113055",
     "status": "completed"
    },
    "tags": []
   },
   "source": []
  },
  {
   "cell_type": "markdown",
   "metadata": {
    "papermill": {
     "duration": 0.030538,
     "end_time": "2021-04-05T00:13:19.209345",
     "exception": false,
     "start_time": "2021-04-05T00:13:19.178807",
     "status": "completed"
    },
    "tags": []
   },
   "source": [
    "### Transformation Pipelines"
   ]
  },
  {
   "cell_type": "code",
   "execution_count": 12,
   "metadata": {
    "execution": {
     "iopub.execute_input": "2021-04-05T00:13:19.276387Z",
     "iopub.status.busy": "2021-04-05T00:13:19.275797Z",
     "iopub.status.idle": "2021-04-05T00:13:19.651677Z",
     "shell.execute_reply": "2021-04-05T00:13:19.652252Z"
    },
    "papermill": {
     "duration": 0.411224,
     "end_time": "2021-04-05T00:13:19.652477",
     "exception": false,
     "start_time": "2021-04-05T00:13:19.241253",
     "status": "completed"
    },
    "tags": []
   },
   "outputs": [],
   "source": [
    "from sklearn.pipeline import Pipeline\n",
    "from sklearn.preprocessing import StandardScaler\n",
    "from sklearn.impute import SimpleImputer\n",
    "from sklearn.preprocessing import OneHotEncoder\n",
    "\n",
    "num_pipe = Pipeline([\n",
    "    ('imputer', SimpleImputer(strategy='median')),\n",
    "    ('std_scaler', StandardScaler())\n",
    "])\n",
    "\n",
    "\n",
    "cat_pipe = Pipeline([\n",
    "    ('imputer', SimpleImputer(strategy='constant')),\n",
    "    ('onehotcode',  OneHotEncoder())\n",
    "])"
   ]
  },
  {
   "cell_type": "code",
   "execution_count": 13,
   "metadata": {
    "execution": {
     "iopub.execute_input": "2021-04-05T00:13:19.721326Z",
     "iopub.status.busy": "2021-04-05T00:13:19.720564Z",
     "iopub.status.idle": "2021-04-05T00:13:19.803485Z",
     "shell.execute_reply": "2021-04-05T00:13:19.804150Z"
    },
    "papermill": {
     "duration": 0.117881,
     "end_time": "2021-04-05T00:13:19.804326",
     "exception": false,
     "start_time": "2021-04-05T00:13:19.686445",
     "status": "completed"
    },
    "tags": []
   },
   "outputs": [],
   "source": [
    "from sklearn.compose import ColumnTransformer\n",
    "\n",
    "num_attribs = list(all_data_num.columns)\n",
    "cat_attribs = list(all_data_cat.columns)\n",
    "\n",
    "full_pipeline = ColumnTransformer([\n",
    "    ('num', num_pipe, num_attribs),\n",
    "    ('cat', cat_pipe, cat_attribs)\n",
    "])\n",
    "\n",
    "all_data_prepared = full_pipeline.fit_transform(all_data)"
   ]
  },
  {
   "cell_type": "markdown",
   "metadata": {
    "papermill": {
     "duration": 0.031092,
     "end_time": "2021-04-05T00:13:19.866819",
     "exception": false,
     "start_time": "2021-04-05T00:13:19.835727",
     "status": "completed"
    },
    "tags": []
   },
   "source": [
    "### Split Data"
   ]
  },
  {
   "cell_type": "code",
   "execution_count": 14,
   "metadata": {
    "execution": {
     "iopub.execute_input": "2021-04-05T00:13:19.933317Z",
     "iopub.status.busy": "2021-04-05T00:13:19.932653Z",
     "iopub.status.idle": "2021-04-05T00:13:19.949425Z",
     "shell.execute_reply": "2021-04-05T00:13:19.949931Z"
    },
    "papermill": {
     "duration": 0.052582,
     "end_time": "2021-04-05T00:13:19.950125",
     "exception": false,
     "start_time": "2021-04-05T00:13:19.897543",
     "status": "completed"
    },
    "tags": []
   },
   "outputs": [],
   "source": [
    "train_data = all_data_prepared[:ntrain]\n",
    "test_data = all_data_prepared[ntrain:]\n",
    "\n",
    "from sklearn.model_selection import train_test_split\n",
    "X_train, X_test, y_train, y_test = train_test_split(train_data, train_labels, random_state=42)"
   ]
  },
  {
   "cell_type": "markdown",
   "metadata": {
    "papermill": {
     "duration": 0.030972,
     "end_time": "2021-04-05T00:13:20.012119",
     "exception": false,
     "start_time": "2021-04-05T00:13:19.981147",
     "status": "completed"
    },
    "tags": []
   },
   "source": [
    "## Training\n"
   ]
  },
  {
   "cell_type": "markdown",
   "metadata": {
    "papermill": {
     "duration": 0.031166,
     "end_time": "2021-04-05T00:13:20.076347",
     "exception": false,
     "start_time": "2021-04-05T00:13:20.045181",
     "status": "completed"
    },
    "tags": []
   },
   "source": [
    "### Logistic Regression"
   ]
  },
  {
   "cell_type": "code",
   "execution_count": 15,
   "metadata": {
    "execution": {
     "iopub.execute_input": "2021-04-05T00:13:20.141513Z",
     "iopub.status.busy": "2021-04-05T00:13:20.140793Z",
     "iopub.status.idle": "2021-04-05T00:13:23.963031Z",
     "shell.execute_reply": "2021-04-05T00:13:23.963597Z"
    },
    "papermill": {
     "duration": 3.856755,
     "end_time": "2021-04-05T00:13:23.963846",
     "exception": false,
     "start_time": "2021-04-05T00:13:20.107091",
     "status": "completed"
    },
    "tags": []
   },
   "outputs": [
    {
     "name": "stdout",
     "output_type": "stream",
     "text": [
      "Fitting 5 folds for each of 40 candidates, totalling 200 fits\n"
     ]
    }
   ],
   "source": [
    "from sklearn.linear_model import LogisticRegression\n",
    "from sklearn.model_selection import cross_val_score\n",
    "from sklearn.model_selection import GridSearchCV\n",
    "\n",
    "logreg = LogisticRegression(class_weight = class_weights)\n",
    "\n",
    "param_grid = {'max_iter': [2000],\n",
    "             'penalty': ['l1', 'l2'],\n",
    "             'C': np.logspace(-4,4,20),\n",
    "             'solver': ['liblinear']}\n",
    "clf_lr = GridSearchCV(logreg, param_grid, cv = 5, verbose = 1, n_jobs = -1)\n",
    "bestF = clf_lr.fit(train_data, train_labels)"
   ]
  },
  {
   "cell_type": "code",
   "execution_count": 16,
   "metadata": {
    "execution": {
     "iopub.execute_input": "2021-04-05T00:13:24.036001Z",
     "iopub.status.busy": "2021-04-05T00:13:24.034915Z",
     "iopub.status.idle": "2021-04-05T00:13:24.039055Z",
     "shell.execute_reply": "2021-04-05T00:13:24.039697Z"
    },
    "papermill": {
     "duration": 0.042932,
     "end_time": "2021-04-05T00:13:24.039876",
     "exception": false,
     "start_time": "2021-04-05T00:13:23.996944",
     "status": "completed"
    },
    "tags": []
   },
   "outputs": [
    {
     "data": {
      "text/plain": [
       "0.8293955181721173"
      ]
     },
     "execution_count": 16,
     "metadata": {},
     "output_type": "execute_result"
    }
   ],
   "source": [
    "bestF.best_score_"
   ]
  },
  {
   "cell_type": "code",
   "execution_count": 17,
   "metadata": {
    "execution": {
     "iopub.execute_input": "2021-04-05T00:13:24.110317Z",
     "iopub.status.busy": "2021-04-05T00:13:24.109351Z",
     "iopub.status.idle": "2021-04-05T00:13:24.113369Z",
     "shell.execute_reply": "2021-04-05T00:13:24.113924Z"
    },
    "papermill": {
     "duration": 0.041285,
     "end_time": "2021-04-05T00:13:24.114093",
     "exception": false,
     "start_time": "2021-04-05T00:13:24.072808",
     "status": "completed"
    },
    "tags": []
   },
   "outputs": [
    {
     "data": {
      "text/plain": [
       "{'C': 1438.44988828766,\n",
       " 'max_iter': 2000,\n",
       " 'penalty': 'l2',\n",
       " 'solver': 'liblinear'}"
      ]
     },
     "execution_count": 17,
     "metadata": {},
     "output_type": "execute_result"
    }
   ],
   "source": [
    "bestF.best_params_"
   ]
  },
  {
   "cell_type": "markdown",
   "metadata": {
    "papermill": {
     "duration": 0.031578,
     "end_time": "2021-04-05T00:13:24.177762",
     "exception": false,
     "start_time": "2021-04-05T00:13:24.146184",
     "status": "completed"
    },
    "tags": []
   },
   "source": [
    "### Decision Tree Classifier"
   ]
  },
  {
   "cell_type": "code",
   "execution_count": 18,
   "metadata": {
    "execution": {
     "iopub.execute_input": "2021-04-05T00:13:24.250333Z",
     "iopub.status.busy": "2021-04-05T00:13:24.249357Z",
     "iopub.status.idle": "2021-04-05T00:13:24.523845Z",
     "shell.execute_reply": "2021-04-05T00:13:24.523326Z"
    },
    "papermill": {
     "duration": 0.313972,
     "end_time": "2021-04-05T00:13:24.523989",
     "exception": false,
     "start_time": "2021-04-05T00:13:24.210017",
     "status": "completed"
    },
    "tags": []
   },
   "outputs": [
    {
     "data": {
      "text/plain": [
       "0.8193383270911362"
      ]
     },
     "execution_count": 18,
     "metadata": {},
     "output_type": "execute_result"
    }
   ],
   "source": [
    "from sklearn.tree import DecisionTreeClassifier\n",
    "\n",
    "decision_tree = DecisionTreeClassifier(class_weight = class_weights)\n",
    "\n",
    "scores = cross_val_score(decision_tree, train_data, train_labels, scoring ='accuracy', cv=10)\n",
    "scores.mean()"
   ]
  },
  {
   "cell_type": "markdown",
   "metadata": {
    "papermill": {
     "duration": 0.031976,
     "end_time": "2021-04-05T00:13:24.587875",
     "exception": false,
     "start_time": "2021-04-05T00:13:24.555899",
     "status": "completed"
    },
    "tags": []
   },
   "source": [
    "### Random Forest Classifier"
   ]
  },
  {
   "cell_type": "code",
   "execution_count": 19,
   "metadata": {
    "execution": {
     "iopub.execute_input": "2021-04-05T00:13:24.660646Z",
     "iopub.status.busy": "2021-04-05T00:13:24.659827Z",
     "iopub.status.idle": "2021-04-05T00:13:45.121536Z",
     "shell.execute_reply": "2021-04-05T00:13:45.120982Z"
    },
    "papermill": {
     "duration": 20.501527,
     "end_time": "2021-04-05T00:13:45.121693",
     "exception": false,
     "start_time": "2021-04-05T00:13:24.620166",
     "status": "completed"
    },
    "tags": []
   },
   "outputs": [
    {
     "name": "stdout",
     "output_type": "stream",
     "text": [
      "Fitting 3 folds for each of 180 candidates, totalling 540 fits\n"
     ]
    }
   ],
   "source": [
    "from sklearn.ensemble import RandomForestClassifier\n",
    "\n",
    "\n",
    "forest = RandomForestClassifier(random_state = 42)\n",
    "n_estimators = [5, 10, 50, 100]\n",
    "max_depth = [3,5, 8, 10, 20]\n",
    "min_samples_split = [2, 5, 10]\n",
    "min_samples_leaf = [1, 2, 5] \n",
    "\n",
    "hyperF = dict(n_estimators = n_estimators, max_depth = max_depth,  \n",
    "              min_samples_split = min_samples_split, \n",
    "             min_samples_leaf = min_samples_leaf)\n",
    "\n",
    "gridF = GridSearchCV(forest, hyperF, cv = 3, verbose = 1, \n",
    "                      n_jobs = -1)\n",
    "bestF = gridF.fit(train_data, train_labels)"
   ]
  },
  {
   "cell_type": "code",
   "execution_count": 20,
   "metadata": {
    "execution": {
     "iopub.execute_input": "2021-04-05T00:13:45.192538Z",
     "iopub.status.busy": "2021-04-05T00:13:45.191934Z",
     "iopub.status.idle": "2021-04-05T00:13:45.194591Z",
     "shell.execute_reply": "2021-04-05T00:13:45.195145Z"
    },
    "papermill": {
     "duration": 0.040636,
     "end_time": "2021-04-05T00:13:45.195308",
     "exception": false,
     "start_time": "2021-04-05T00:13:45.154672",
     "status": "completed"
    },
    "tags": []
   },
   "outputs": [
    {
     "data": {
      "text/plain": [
       "{'max_depth': 20,\n",
       " 'min_samples_leaf': 1,\n",
       " 'min_samples_split': 10,\n",
       " 'n_estimators': 100}"
      ]
     },
     "execution_count": 20,
     "metadata": {},
     "output_type": "execute_result"
    }
   ],
   "source": [
    "bestF.best_params_"
   ]
  },
  {
   "cell_type": "code",
   "execution_count": 21,
   "metadata": {
    "execution": {
     "iopub.execute_input": "2021-04-05T00:13:45.266063Z",
     "iopub.status.busy": "2021-04-05T00:13:45.265427Z",
     "iopub.status.idle": "2021-04-05T00:13:45.269995Z",
     "shell.execute_reply": "2021-04-05T00:13:45.270467Z"
    },
    "papermill": {
     "duration": 0.042153,
     "end_time": "2021-04-05T00:13:45.270650",
     "exception": false,
     "start_time": "2021-04-05T00:13:45.228497",
     "status": "completed"
    },
    "tags": []
   },
   "outputs": [
    {
     "data": {
      "text/plain": [
       "0.809203142536476"
      ]
     },
     "execution_count": 21,
     "metadata": {},
     "output_type": "execute_result"
    }
   ],
   "source": [
    "bestF.best_score_"
   ]
  },
  {
   "cell_type": "code",
   "execution_count": 22,
   "metadata": {
    "execution": {
     "iopub.execute_input": "2021-04-05T00:13:45.341418Z",
     "iopub.status.busy": "2021-04-05T00:13:45.340796Z",
     "iopub.status.idle": "2021-04-05T00:13:45.345763Z",
     "shell.execute_reply": "2021-04-05T00:13:45.345138Z"
    },
    "papermill": {
     "duration": 0.041405,
     "end_time": "2021-04-05T00:13:45.345913",
     "exception": false,
     "start_time": "2021-04-05T00:13:45.304508",
     "status": "completed"
    },
    "tags": []
   },
   "outputs": [],
   "source": [
    "forest = RandomForestClassifier(max_depth=20, n_estimators=100, random_state=42)"
   ]
  },
  {
   "cell_type": "code",
   "execution_count": 23,
   "metadata": {
    "execution": {
     "iopub.execute_input": "2021-04-05T00:13:45.419988Z",
     "iopub.status.busy": "2021-04-05T00:13:45.419355Z",
     "iopub.status.idle": "2021-04-05T00:13:46.955548Z",
     "shell.execute_reply": "2021-04-05T00:13:46.955016Z"
    },
    "papermill": {
     "duration": 1.57543,
     "end_time": "2021-04-05T00:13:46.955704",
     "exception": false,
     "start_time": "2021-04-05T00:13:45.380274",
     "status": "completed"
    },
    "tags": []
   },
   "outputs": [
    {
     "data": {
      "text/plain": [
       "0.8081413596133326"
      ]
     },
     "execution_count": 23,
     "metadata": {},
     "output_type": "execute_result"
    }
   ],
   "source": [
    "scores = cross_val_score(forest, train_data, train_labels, scoring ='accuracy', cv=5)\n",
    "scores.mean()"
   ]
  },
  {
   "cell_type": "markdown",
   "metadata": {
    "papermill": {
     "duration": 0.033661,
     "end_time": "2021-04-05T00:13:47.023831",
     "exception": false,
     "start_time": "2021-04-05T00:13:46.990170",
     "status": "completed"
    },
    "tags": []
   },
   "source": [
    "### Support Vector Machine"
   ]
  },
  {
   "cell_type": "code",
   "execution_count": 24,
   "metadata": {
    "execution": {
     "iopub.execute_input": "2021-04-05T00:13:47.102148Z",
     "iopub.status.busy": "2021-04-05T00:13:47.101138Z",
     "iopub.status.idle": "2021-04-05T00:13:59.353085Z",
     "shell.execute_reply": "2021-04-05T00:13:59.353561Z"
    },
    "papermill": {
     "duration": 12.295959,
     "end_time": "2021-04-05T00:13:59.353770",
     "exception": false,
     "start_time": "2021-04-05T00:13:47.057811",
     "status": "completed"
    },
    "tags": []
   },
   "outputs": [
    {
     "name": "stdout",
     "output_type": "stream",
     "text": [
      "Fitting 5 folds for each of 50 candidates, totalling 250 fits\n",
      "[CV] END ..............................C=10.0, kernel=linear; total time=   0.0s\n",
      "[CV] END ..............................C=10.0, kernel=linear; total time=   0.0s\n",
      "[CV] END ..............................C=10.0, kernel=linear; total time=   0.0s\n",
      "[CV] END ..............................C=10.0, kernel=linear; total time=   0.0s\n",
      "[CV] END ..............................C=10.0, kernel=linear; total time=   0.0s\n",
      "[CV] END ..............................C=30.0, kernel=linear; total time=   0.0s\n",
      "[CV] END ..............................C=30.0, kernel=linear; total time=   0.0s\n",
      "[CV] END ..............................C=30.0, kernel=linear; total time=   0.0s\n",
      "[CV] END ..............................C=30.0, kernel=linear; total time=   0.0s\n",
      "[CV] END ..............................C=30.0, kernel=linear; total time=   0.0s\n",
      "[CV] END .............................C=100.0, kernel=linear; total time=   0.0s\n",
      "[CV] END .............................C=100.0, kernel=linear; total time=   0.0s\n",
      "[CV] END .............................C=100.0, kernel=linear; total time=   0.0s\n",
      "[CV] END .............................C=100.0, kernel=linear; total time=   0.0s\n",
      "[CV] END .............................C=100.0, kernel=linear; total time=   0.0s\n",
      "[CV] END .............................C=300.0, kernel=linear; total time=   0.0s\n",
      "[CV] END .............................C=300.0, kernel=linear; total time=   0.0s\n",
      "[CV] END .............................C=300.0, kernel=linear; total time=   0.0s\n",
      "[CV] END .............................C=300.0, kernel=linear; total time=   0.0s\n",
      "[CV] END .............................C=300.0, kernel=linear; total time=   0.0s\n",
      "[CV] END ............................C=1000.0, kernel=linear; total time=   0.0s\n",
      "[CV] END ............................C=1000.0, kernel=linear; total time=   0.0s\n",
      "[CV] END ............................C=1000.0, kernel=linear; total time=   0.0s\n",
      "[CV] END ............................C=1000.0, kernel=linear; total time=   0.0s\n",
      "[CV] END ............................C=1000.0, kernel=linear; total time=   0.0s\n",
      "[CV] END ............................C=3000.0, kernel=linear; total time=   0.0s\n",
      "[CV] END ............................C=3000.0, kernel=linear; total time=   0.0s\n",
      "[CV] END ............................C=3000.0, kernel=linear; total time=   0.0s\n",
      "[CV] END ............................C=3000.0, kernel=linear; total time=   0.0s\n",
      "[CV] END ............................C=3000.0, kernel=linear; total time=   0.0s\n",
      "[CV] END ...........................C=10000.0, kernel=linear; total time=   0.0s\n",
      "[CV] END ...........................C=10000.0, kernel=linear; total time=   0.0s\n",
      "[CV] END ...........................C=10000.0, kernel=linear; total time=   0.0s\n",
      "[CV] END ...........................C=10000.0, kernel=linear; total time=   0.0s\n",
      "[CV] END ...........................C=10000.0, kernel=linear; total time=   0.0s\n",
      "[CV] END ...........................C=30000.0, kernel=linear; total time=   0.0s\n",
      "[CV] END ...........................C=30000.0, kernel=linear; total time=   0.0s\n",
      "[CV] END ...........................C=30000.0, kernel=linear; total time=   0.0s\n",
      "[CV] END ...........................C=30000.0, kernel=linear; total time=   0.0s\n",
      "[CV] END ...........................C=30000.0, kernel=linear; total time=   0.0s\n",
      "[CV] END ......................C=1.0, gamma=0.01, kernel=rbf; total time=   0.0s\n",
      "[CV] END ......................C=1.0, gamma=0.01, kernel=rbf; total time=   0.0s\n",
      "[CV] END ......................C=1.0, gamma=0.01, kernel=rbf; total time=   0.0s\n",
      "[CV] END ......................C=1.0, gamma=0.01, kernel=rbf; total time=   0.0s\n",
      "[CV] END ......................C=1.0, gamma=0.01, kernel=rbf; total time=   0.0s\n",
      "[CV] END ......................C=1.0, gamma=0.03, kernel=rbf; total time=   0.0s\n",
      "[CV] END ......................C=1.0, gamma=0.03, kernel=rbf; total time=   0.0s\n",
      "[CV] END ......................C=1.0, gamma=0.03, kernel=rbf; total time=   0.0s\n",
      "[CV] END ......................C=1.0, gamma=0.03, kernel=rbf; total time=   0.0s\n",
      "[CV] END ......................C=1.0, gamma=0.03, kernel=rbf; total time=   0.0s\n",
      "[CV] END .......................C=1.0, gamma=0.1, kernel=rbf; total time=   0.0s\n",
      "[CV] END .......................C=1.0, gamma=0.1, kernel=rbf; total time=   0.0s\n",
      "[CV] END .......................C=1.0, gamma=0.1, kernel=rbf; total time=   0.0s\n",
      "[CV] END .......................C=1.0, gamma=0.1, kernel=rbf; total time=   0.0s\n",
      "[CV] END .......................C=1.0, gamma=0.1, kernel=rbf; total time=   0.0s\n",
      "[CV] END .......................C=1.0, gamma=0.3, kernel=rbf; total time=   0.0s\n",
      "[CV] END .......................C=1.0, gamma=0.3, kernel=rbf; total time=   0.0s\n",
      "[CV] END .......................C=1.0, gamma=0.3, kernel=rbf; total time=   0.0s\n",
      "[CV] END .......................C=1.0, gamma=0.3, kernel=rbf; total time=   0.0s\n",
      "[CV] END .......................C=1.0, gamma=0.3, kernel=rbf; total time=   0.0s\n",
      "[CV] END .......................C=1.0, gamma=1.0, kernel=rbf; total time=   0.1s\n",
      "[CV] END .......................C=1.0, gamma=1.0, kernel=rbf; total time=   0.1s\n",
      "[CV] END .......................C=1.0, gamma=1.0, kernel=rbf; total time=   0.0s\n",
      "[CV] END .......................C=1.0, gamma=1.0, kernel=rbf; total time=   0.1s\n",
      "[CV] END .......................C=1.0, gamma=1.0, kernel=rbf; total time=   0.1s\n",
      "[CV] END .......................C=1.0, gamma=3.0, kernel=rbf; total time=   0.1s\n",
      "[CV] END .......................C=1.0, gamma=3.0, kernel=rbf; total time=   0.1s\n",
      "[CV] END .......................C=1.0, gamma=3.0, kernel=rbf; total time=   0.0s\n",
      "[CV] END .......................C=1.0, gamma=3.0, kernel=rbf; total time=   0.1s\n",
      "[CV] END .......................C=1.0, gamma=3.0, kernel=rbf; total time=   0.1s\n",
      "[CV] END ......................C=3.0, gamma=0.01, kernel=rbf; total time=   0.0s\n",
      "[CV] END ......................C=3.0, gamma=0.01, kernel=rbf; total time=   0.0s\n",
      "[CV] END ......................C=3.0, gamma=0.01, kernel=rbf; total time=   0.0s\n",
      "[CV] END ......................C=3.0, gamma=0.01, kernel=rbf; total time=   0.0s\n",
      "[CV] END ......................C=3.0, gamma=0.01, kernel=rbf; total time=   0.0s\n",
      "[CV] END ......................C=3.0, gamma=0.03, kernel=rbf; total time=   0.0s\n",
      "[CV] END ......................C=3.0, gamma=0.03, kernel=rbf; total time=   0.0s\n",
      "[CV] END ......................C=3.0, gamma=0.03, kernel=rbf; total time=   0.0s\n",
      "[CV] END ......................C=3.0, gamma=0.03, kernel=rbf; total time=   0.0s\n",
      "[CV] END ......................C=3.0, gamma=0.03, kernel=rbf; total time=   0.0s\n",
      "[CV] END .......................C=3.0, gamma=0.1, kernel=rbf; total time=   0.0s\n",
      "[CV] END .......................C=3.0, gamma=0.1, kernel=rbf; total time=   0.0s\n",
      "[CV] END .......................C=3.0, gamma=0.1, kernel=rbf; total time=   0.0s\n",
      "[CV] END .......................C=3.0, gamma=0.1, kernel=rbf; total time=   0.0s\n",
      "[CV] END .......................C=3.0, gamma=0.1, kernel=rbf; total time=   0.0s\n",
      "[CV] END .......................C=3.0, gamma=0.3, kernel=rbf; total time=   0.0s\n",
      "[CV] END .......................C=3.0, gamma=0.3, kernel=rbf; total time=   0.1s\n",
      "[CV] END .......................C=3.0, gamma=0.3, kernel=rbf; total time=   0.1s\n",
      "[CV] END .......................C=3.0, gamma=0.3, kernel=rbf; total time=   0.0s\n",
      "[CV] END .......................C=3.0, gamma=0.3, kernel=rbf; total time=   0.1s\n",
      "[CV] END .......................C=3.0, gamma=1.0, kernel=rbf; total time=   0.0s\n",
      "[CV] END .......................C=3.0, gamma=1.0, kernel=rbf; total time=   0.0s\n",
      "[CV] END .......................C=3.0, gamma=1.0, kernel=rbf; total time=   0.0s\n",
      "[CV] END .......................C=3.0, gamma=1.0, kernel=rbf; total time=   0.0s\n",
      "[CV] END .......................C=3.0, gamma=1.0, kernel=rbf; total time=   0.1s\n",
      "[CV] END .......................C=3.0, gamma=3.0, kernel=rbf; total time=   0.1s\n",
      "[CV] END .......................C=3.0, gamma=3.0, kernel=rbf; total time=   0.1s\n",
      "[CV] END .......................C=3.0, gamma=3.0, kernel=rbf; total time=   0.1s\n",
      "[CV] END .......................C=3.0, gamma=3.0, kernel=rbf; total time=   0.1s\n",
      "[CV] END .......................C=3.0, gamma=3.0, kernel=rbf; total time=   0.1s\n",
      "[CV] END .....................C=10.0, gamma=0.01, kernel=rbf; total time=   0.0s\n",
      "[CV] END .....................C=10.0, gamma=0.01, kernel=rbf; total time=   0.0s\n",
      "[CV] END .....................C=10.0, gamma=0.01, kernel=rbf; total time=   0.0s\n",
      "[CV] END .....................C=10.0, gamma=0.01, kernel=rbf; total time=   0.0s\n",
      "[CV] END .....................C=10.0, gamma=0.01, kernel=rbf; total time=   0.0s\n",
      "[CV] END .....................C=10.0, gamma=0.03, kernel=rbf; total time=   0.0s\n",
      "[CV] END .....................C=10.0, gamma=0.03, kernel=rbf; total time=   0.0s\n",
      "[CV] END .....................C=10.0, gamma=0.03, kernel=rbf; total time=   0.0s\n",
      "[CV] END .....................C=10.0, gamma=0.03, kernel=rbf; total time=   0.0s\n",
      "[CV] END .....................C=10.0, gamma=0.03, kernel=rbf; total time=   0.0s\n",
      "[CV] END ......................C=10.0, gamma=0.1, kernel=rbf; total time=   0.0s\n",
      "[CV] END ......................C=10.0, gamma=0.1, kernel=rbf; total time=   0.0s\n",
      "[CV] END ......................C=10.0, gamma=0.1, kernel=rbf; total time=   0.0s\n",
      "[CV] END ......................C=10.0, gamma=0.1, kernel=rbf; total time=   0.0s\n",
      "[CV] END ......................C=10.0, gamma=0.1, kernel=rbf; total time=   0.0s\n",
      "[CV] END ......................C=10.0, gamma=0.3, kernel=rbf; total time=   0.0s\n",
      "[CV] END ......................C=10.0, gamma=0.3, kernel=rbf; total time=   0.0s\n",
      "[CV] END ......................C=10.0, gamma=0.3, kernel=rbf; total time=   0.0s\n",
      "[CV] END ......................C=10.0, gamma=0.3, kernel=rbf; total time=   0.1s\n",
      "[CV] END ......................C=10.0, gamma=0.3, kernel=rbf; total time=   0.0s\n",
      "[CV] END ......................C=10.0, gamma=1.0, kernel=rbf; total time=   0.0s\n",
      "[CV] END ......................C=10.0, gamma=1.0, kernel=rbf; total time=   0.0s\n",
      "[CV] END ......................C=10.0, gamma=1.0, kernel=rbf; total time=   0.0s\n",
      "[CV] END ......................C=10.0, gamma=1.0, kernel=rbf; total time=   0.0s\n",
      "[CV] END ......................C=10.0, gamma=1.0, kernel=rbf; total time=   0.1s\n",
      "[CV] END ......................C=10.0, gamma=3.0, kernel=rbf; total time=   0.1s\n",
      "[CV] END ......................C=10.0, gamma=3.0, kernel=rbf; total time=   0.1s\n",
      "[CV] END ......................C=10.0, gamma=3.0, kernel=rbf; total time=   0.1s\n",
      "[CV] END ......................C=10.0, gamma=3.0, kernel=rbf; total time=   0.1s\n",
      "[CV] END ......................C=10.0, gamma=3.0, kernel=rbf; total time=   0.0s\n",
      "[CV] END .....................C=30.0, gamma=0.01, kernel=rbf; total time=   0.0s\n",
      "[CV] END .....................C=30.0, gamma=0.01, kernel=rbf; total time=   0.0s\n",
      "[CV] END .....................C=30.0, gamma=0.01, kernel=rbf; total time=   0.0s\n",
      "[CV] END .....................C=30.0, gamma=0.01, kernel=rbf; total time=   0.0s\n",
      "[CV] END .....................C=30.0, gamma=0.01, kernel=rbf; total time=   0.0s\n",
      "[CV] END .....................C=30.0, gamma=0.03, kernel=rbf; total time=   0.0s\n",
      "[CV] END .....................C=30.0, gamma=0.03, kernel=rbf; total time=   0.0s\n",
      "[CV] END .....................C=30.0, gamma=0.03, kernel=rbf; total time=   0.1s\n",
      "[CV] END .....................C=30.0, gamma=0.03, kernel=rbf; total time=   0.1s\n",
      "[CV] END .....................C=30.0, gamma=0.03, kernel=rbf; total time=   0.1s\n",
      "[CV] END ......................C=30.0, gamma=0.1, kernel=rbf; total time=   0.1s\n",
      "[CV] END ......................C=30.0, gamma=0.1, kernel=rbf; total time=   0.0s\n",
      "[CV] END ......................C=30.0, gamma=0.1, kernel=rbf; total time=   0.0s\n",
      "[CV] END ......................C=30.0, gamma=0.1, kernel=rbf; total time=   0.0s\n",
      "[CV] END ......................C=30.0, gamma=0.1, kernel=rbf; total time=   0.0s\n",
      "[CV] END ......................C=30.0, gamma=0.3, kernel=rbf; total time=   0.1s\n",
      "[CV] END ......................C=30.0, gamma=0.3, kernel=rbf; total time=   0.1s\n",
      "[CV] END ......................C=30.0, gamma=0.3, kernel=rbf; total time=   0.1s\n",
      "[CV] END ......................C=30.0, gamma=0.3, kernel=rbf; total time=   0.0s\n",
      "[CV] END ......................C=30.0, gamma=0.3, kernel=rbf; total time=   0.0s\n",
      "[CV] END ......................C=30.0, gamma=1.0, kernel=rbf; total time=   0.0s\n",
      "[CV] END ......................C=30.0, gamma=1.0, kernel=rbf; total time=   0.1s\n",
      "[CV] END ......................C=30.0, gamma=1.0, kernel=rbf; total time=   0.0s\n",
      "[CV] END ......................C=30.0, gamma=1.0, kernel=rbf; total time=   0.0s\n",
      "[CV] END ......................C=30.0, gamma=1.0, kernel=rbf; total time=   0.0s\n",
      "[CV] END ......................C=30.0, gamma=3.0, kernel=rbf; total time=   0.1s\n",
      "[CV] END ......................C=30.0, gamma=3.0, kernel=rbf; total time=   0.1s\n",
      "[CV] END ......................C=30.0, gamma=3.0, kernel=rbf; total time=   0.1s\n",
      "[CV] END ......................C=30.0, gamma=3.0, kernel=rbf; total time=   0.1s\n",
      "[CV] END ......................C=30.0, gamma=3.0, kernel=rbf; total time=   0.0s\n",
      "[CV] END ....................C=100.0, gamma=0.01, kernel=rbf; total time=   0.0s\n",
      "[CV] END ....................C=100.0, gamma=0.01, kernel=rbf; total time=   0.0s\n",
      "[CV] END ....................C=100.0, gamma=0.01, kernel=rbf; total time=   0.0s\n",
      "[CV] END ....................C=100.0, gamma=0.01, kernel=rbf; total time=   0.0s\n",
      "[CV] END ....................C=100.0, gamma=0.01, kernel=rbf; total time=   0.1s\n",
      "[CV] END ....................C=100.0, gamma=0.03, kernel=rbf; total time=   0.0s\n",
      "[CV] END ....................C=100.0, gamma=0.03, kernel=rbf; total time=   0.0s\n",
      "[CV] END ....................C=100.0, gamma=0.03, kernel=rbf; total time=   0.0s\n",
      "[CV] END ....................C=100.0, gamma=0.03, kernel=rbf; total time=   0.0s\n",
      "[CV] END ....................C=100.0, gamma=0.03, kernel=rbf; total time=   0.0s\n",
      "[CV] END .....................C=100.0, gamma=0.1, kernel=rbf; total time=   0.0s\n",
      "[CV] END .....................C=100.0, gamma=0.1, kernel=rbf; total time=   0.0s\n",
      "[CV] END .....................C=100.0, gamma=0.1, kernel=rbf; total time=   0.0s\n",
      "[CV] END .....................C=100.0, gamma=0.1, kernel=rbf; total time=   0.0s\n",
      "[CV] END .....................C=100.0, gamma=0.1, kernel=rbf; total time=   0.0s\n",
      "[CV] END .....................C=100.0, gamma=0.3, kernel=rbf; total time=   0.0s\n",
      "[CV] END .....................C=100.0, gamma=0.3, kernel=rbf; total time=   0.0s\n",
      "[CV] END .....................C=100.0, gamma=0.3, kernel=rbf; total time=   0.0s\n",
      "[CV] END .....................C=100.0, gamma=0.3, kernel=rbf; total time=   0.0s\n",
      "[CV] END .....................C=100.0, gamma=0.3, kernel=rbf; total time=   0.0s\n",
      "[CV] END .....................C=100.0, gamma=1.0, kernel=rbf; total time=   0.0s\n",
      "[CV] END .....................C=100.0, gamma=1.0, kernel=rbf; total time=   0.0s\n",
      "[CV] END .....................C=100.0, gamma=1.0, kernel=rbf; total time=   0.0s\n",
      "[CV] END .....................C=100.0, gamma=1.0, kernel=rbf; total time=   0.0s\n",
      "[CV] END .....................C=100.0, gamma=1.0, kernel=rbf; total time=   0.1s\n",
      "[CV] END .....................C=100.0, gamma=3.0, kernel=rbf; total time=   0.1s\n",
      "[CV] END .....................C=100.0, gamma=3.0, kernel=rbf; total time=   0.1s\n",
      "[CV] END .....................C=100.0, gamma=3.0, kernel=rbf; total time=   0.1s\n",
      "[CV] END .....................C=100.0, gamma=3.0, kernel=rbf; total time=   0.1s\n",
      "[CV] END .....................C=100.0, gamma=3.0, kernel=rbf; total time=   0.0s\n",
      "[CV] END ....................C=300.0, gamma=0.01, kernel=rbf; total time=   0.0s\n",
      "[CV] END ....................C=300.0, gamma=0.01, kernel=rbf; total time=   0.0s\n",
      "[CV] END ....................C=300.0, gamma=0.01, kernel=rbf; total time=   0.0s\n",
      "[CV] END ....................C=300.0, gamma=0.01, kernel=rbf; total time=   0.1s\n",
      "[CV] END ....................C=300.0, gamma=0.01, kernel=rbf; total time=   0.1s\n",
      "[CV] END ....................C=300.0, gamma=0.03, kernel=rbf; total time=   0.1s\n",
      "[CV] END ....................C=300.0, gamma=0.03, kernel=rbf; total time=   0.0s\n",
      "[CV] END ....................C=300.0, gamma=0.03, kernel=rbf; total time=   0.0s\n",
      "[CV] END ....................C=300.0, gamma=0.03, kernel=rbf; total time=   0.0s\n",
      "[CV] END ....................C=300.0, gamma=0.03, kernel=rbf; total time=   0.0s\n",
      "[CV] END .....................C=300.0, gamma=0.1, kernel=rbf; total time=   0.0s\n",
      "[CV] END .....................C=300.0, gamma=0.1, kernel=rbf; total time=   0.0s\n",
      "[CV] END .....................C=300.0, gamma=0.1, kernel=rbf; total time=   0.0s\n",
      "[CV] END .....................C=300.0, gamma=0.1, kernel=rbf; total time=   0.0s\n",
      "[CV] END .....................C=300.0, gamma=0.1, kernel=rbf; total time=   0.0s\n",
      "[CV] END .....................C=300.0, gamma=0.3, kernel=rbf; total time=   0.0s\n",
      "[CV] END .....................C=300.0, gamma=0.3, kernel=rbf; total time=   0.0s\n",
      "[CV] END .....................C=300.0, gamma=0.3, kernel=rbf; total time=   0.0s\n",
      "[CV] END .....................C=300.0, gamma=0.3, kernel=rbf; total time=   0.0s\n",
      "[CV] END .....................C=300.0, gamma=0.3, kernel=rbf; total time=   0.0s\n",
      "[CV] END .....................C=300.0, gamma=1.0, kernel=rbf; total time=   0.0s\n",
      "[CV] END .....................C=300.0, gamma=1.0, kernel=rbf; total time=   0.0s\n",
      "[CV] END .....................C=300.0, gamma=1.0, kernel=rbf; total time=   0.1s\n",
      "[CV] END .....................C=300.0, gamma=1.0, kernel=rbf; total time=   0.1s\n",
      "[CV] END .....................C=300.0, gamma=1.0, kernel=rbf; total time=   0.1s\n",
      "[CV] END .....................C=300.0, gamma=3.0, kernel=rbf; total time=   0.1s\n",
      "[CV] END .....................C=300.0, gamma=3.0, kernel=rbf; total time=   0.1s\n",
      "[CV] END .....................C=300.0, gamma=3.0, kernel=rbf; total time=   0.1s\n",
      "[CV] END .....................C=300.0, gamma=3.0, kernel=rbf; total time=   0.1s\n",
      "[CV] END .....................C=300.0, gamma=3.0, kernel=rbf; total time=   0.0s\n",
      "[CV] END ...................C=1000.0, gamma=0.01, kernel=rbf; total time=   0.1s\n",
      "[CV] END ...................C=1000.0, gamma=0.01, kernel=rbf; total time=   0.0s\n",
      "[CV] END ...................C=1000.0, gamma=0.01, kernel=rbf; total time=   0.0s\n",
      "[CV] END ...................C=1000.0, gamma=0.01, kernel=rbf; total time=   0.1s\n",
      "[CV] END ...................C=1000.0, gamma=0.01, kernel=rbf; total time=   0.1s\n",
      "[CV] END ...................C=1000.0, gamma=0.03, kernel=rbf; total time=   0.1s\n",
      "[CV] END ...................C=1000.0, gamma=0.03, kernel=rbf; total time=   0.0s\n",
      "[CV] END ...................C=1000.0, gamma=0.03, kernel=rbf; total time=   0.0s\n",
      "[CV] END ...................C=1000.0, gamma=0.03, kernel=rbf; total time=   0.0s\n",
      "[CV] END ...................C=1000.0, gamma=0.03, kernel=rbf; total time=   0.1s\n",
      "[CV] END ....................C=1000.0, gamma=0.1, kernel=rbf; total time=   0.0s\n",
      "[CV] END ....................C=1000.0, gamma=0.1, kernel=rbf; total time=   0.0s\n",
      "[CV] END ....................C=1000.0, gamma=0.1, kernel=rbf; total time=   0.0s\n",
      "[CV] END ....................C=1000.0, gamma=0.1, kernel=rbf; total time=   0.0s\n",
      "[CV] END ....................C=1000.0, gamma=0.1, kernel=rbf; total time=   0.0s\n",
      "[CV] END ....................C=1000.0, gamma=0.3, kernel=rbf; total time=   0.0s\n",
      "[CV] END ....................C=1000.0, gamma=0.3, kernel=rbf; total time=   0.0s\n",
      "[CV] END ....................C=1000.0, gamma=0.3, kernel=rbf; total time=   0.0s\n",
      "[CV] END ....................C=1000.0, gamma=0.3, kernel=rbf; total time=   0.0s\n",
      "[CV] END ....................C=1000.0, gamma=0.3, kernel=rbf; total time=   0.0s\n",
      "[CV] END ....................C=1000.0, gamma=1.0, kernel=rbf; total time=   0.0s\n",
      "[CV] END ....................C=1000.0, gamma=1.0, kernel=rbf; total time=   0.0s\n",
      "[CV] END ....................C=1000.0, gamma=1.0, kernel=rbf; total time=   0.0s\n",
      "[CV] END ....................C=1000.0, gamma=1.0, kernel=rbf; total time=   0.1s\n",
      "[CV] END ....................C=1000.0, gamma=1.0, kernel=rbf; total time=   0.1s\n",
      "[CV] END ....................C=1000.0, gamma=3.0, kernel=rbf; total time=   0.1s\n",
      "[CV] END ....................C=1000.0, gamma=3.0, kernel=rbf; total time=   0.1s\n",
      "[CV] END ....................C=1000.0, gamma=3.0, kernel=rbf; total time=   0.1s\n",
      "[CV] END ....................C=1000.0, gamma=3.0, kernel=rbf; total time=   0.1s\n",
      "[CV] END ....................C=1000.0, gamma=3.0, kernel=rbf; total time=   0.1s\n"
     ]
    },
    {
     "data": {
      "text/plain": [
       "GridSearchCV(cv=5,\n",
       "             estimator=SVC(class_weight={0: 0.8114754098360656,\n",
       "                                         1: 1.3026315789473684}),\n",
       "             param_grid=[{'C': [10.0, 30.0, 100.0, 300.0, 1000.0, 3000.0,\n",
       "                                10000.0, 30000.0],\n",
       "                          'kernel': ['linear']},\n",
       "                         {'C': [1.0, 3.0, 10.0, 30.0, 100.0, 300.0, 1000.0],\n",
       "                          'gamma': [0.01, 0.03, 0.1, 0.3, 1.0, 3.0],\n",
       "                          'kernel': ['rbf']}],\n",
       "             verbose=2)"
      ]
     },
     "execution_count": 24,
     "metadata": {},
     "output_type": "execute_result"
    }
   ],
   "source": [
    "from sklearn.svm import SVC\n",
    "param_grid = [\n",
    "        {'kernel': ['linear'], 'C': [10., 30., 100., 300., 1000., 3000., 10000., 30000.0]},\n",
    "        {'kernel': ['rbf'], 'C': [1.0, 3.0, 10., 30., 100., 300., 1000.0],\n",
    "         'gamma': [0.01, 0.03, 0.1, 0.3, 1.0, 3.0]},\n",
    "    ]\n",
    "\n",
    "svm_clas= SVC(class_weight = class_weights)\n",
    "grid_search = GridSearchCV(svm_clas, param_grid, cv=5,verbose=2)\n",
    "grid_search.fit(train_data, train_labels)"
   ]
  },
  {
   "cell_type": "code",
   "execution_count": 25,
   "metadata": {
    "execution": {
     "iopub.execute_input": "2021-04-05T00:13:59.464218Z",
     "iopub.status.busy": "2021-04-05T00:13:59.463338Z",
     "iopub.status.idle": "2021-04-05T00:13:59.468197Z",
     "shell.execute_reply": "2021-04-05T00:13:59.467692Z"
    },
    "papermill": {
     "duration": 0.062217,
     "end_time": "2021-04-05T00:13:59.468346",
     "exception": false,
     "start_time": "2021-04-05T00:13:59.406129",
     "status": "completed"
    },
    "tags": []
   },
   "outputs": [
    {
     "data": {
      "text/plain": [
       "{'C': 30.0, 'gamma': 0.03, 'kernel': 'rbf'}"
      ]
     },
     "execution_count": 25,
     "metadata": {},
     "output_type": "execute_result"
    }
   ],
   "source": [
    "grid_search.best_params_"
   ]
  },
  {
   "cell_type": "code",
   "execution_count": 26,
   "metadata": {
    "execution": {
     "iopub.execute_input": "2021-04-05T00:13:59.578602Z",
     "iopub.status.busy": "2021-04-05T00:13:59.577961Z",
     "iopub.status.idle": "2021-04-05T00:13:59.580739Z",
     "shell.execute_reply": "2021-04-05T00:13:59.581289Z"
    },
    "papermill": {
     "duration": 0.060984,
     "end_time": "2021-04-05T00:13:59.581453",
     "exception": false,
     "start_time": "2021-04-05T00:13:59.520469",
     "status": "completed"
    },
    "tags": []
   },
   "outputs": [
    {
     "data": {
      "text/plain": [
       "0.8507187244994036"
      ]
     },
     "execution_count": 26,
     "metadata": {},
     "output_type": "execute_result"
    }
   ],
   "source": [
    "grid_search.best_score_"
   ]
  },
  {
   "cell_type": "code",
   "execution_count": 27,
   "metadata": {
    "execution": {
     "iopub.execute_input": "2021-04-05T00:13:59.694110Z",
     "iopub.status.busy": "2021-04-05T00:13:59.693106Z",
     "iopub.status.idle": "2021-04-05T00:14:00.267696Z",
     "shell.execute_reply": "2021-04-05T00:14:00.266991Z"
    },
    "papermill": {
     "duration": 0.633497,
     "end_time": "2021-04-05T00:14:00.267840",
     "exception": false,
     "start_time": "2021-04-05T00:13:59.634343",
     "status": "completed"
    },
    "tags": []
   },
   "outputs": [
    {
     "data": {
      "text/plain": [
       "0.8473533083645443"
      ]
     },
     "execution_count": 27,
     "metadata": {},
     "output_type": "execute_result"
    }
   ],
   "source": [
    "svc = SVC(C=30.0, gamma=0.03, class_weight = class_weights)\n",
    "scores = cross_val_score(svc, train_data, train_labels, scoring ='accuracy', cv=10)\n",
    "scores.mean()"
   ]
  },
  {
   "cell_type": "markdown",
   "metadata": {
    "papermill": {
     "duration": 0.052543,
     "end_time": "2021-04-05T00:14:00.374327",
     "exception": false,
     "start_time": "2021-04-05T00:14:00.321784",
     "status": "completed"
    },
    "tags": []
   },
   "source": [
    "### Prediction"
   ]
  },
  {
   "cell_type": "code",
   "execution_count": 28,
   "metadata": {
    "execution": {
     "iopub.execute_input": "2021-04-05T00:14:00.483834Z",
     "iopub.status.busy": "2021-04-05T00:14:00.482873Z",
     "iopub.status.idle": "2021-04-05T00:14:00.571443Z",
     "shell.execute_reply": "2021-04-05T00:14:00.570724Z"
    },
    "papermill": {
     "duration": 0.145249,
     "end_time": "2021-04-05T00:14:00.571591",
     "exception": false,
     "start_time": "2021-04-05T00:14:00.426342",
     "status": "completed"
    },
    "tags": []
   },
   "outputs": [
    {
     "data": {
      "text/plain": [
       "array([0, 1, 0, 0, 1, 0, 1, 0, 1, 0, 0, 0, 1, 0, 1, 1, 0, 0, 0, 1, 0, 0,\n",
       "       1, 0, 1, 0, 1, 0, 0, 0, 0, 0, 0, 0, 0, 0, 1, 1, 0, 1, 0, 0, 0, 1,\n",
       "       1, 0, 0, 0, 1, 1, 0, 0, 1, 1, 0, 0, 0, 0, 0, 1, 0, 0, 0, 1, 0, 1,\n",
       "       1, 0, 0, 1, 1, 0, 1, 0, 1, 0, 0, 1, 0, 1, 0, 1, 0, 0, 0, 0, 1, 1,\n",
       "       1, 1, 0, 0, 1, 0, 0, 0, 1, 0, 1, 0, 1, 0, 0, 0, 1, 0, 0, 0, 0, 0,\n",
       "       0, 1, 1, 1, 1, 0, 0, 1, 0, 1, 1, 0, 1, 0, 0, 1, 0, 1, 0, 0, 0, 0,\n",
       "       0, 0, 0, 0, 0, 0, 1, 0, 0, 1, 0, 0, 0, 0, 0, 0, 0, 0, 1, 0, 0, 0,\n",
       "       0, 0, 1, 1, 0, 1, 1, 1, 1, 0, 0, 1, 0, 0, 1, 1, 0, 0, 0, 0, 0, 1,\n",
       "       1, 0, 1, 1, 0, 0, 1, 0, 1, 0, 1, 0, 0, 0, 0, 0, 0, 0, 1, 0, 1, 1,\n",
       "       0, 1, 1, 1, 0, 1, 0, 0, 1, 0, 1, 0, 0, 0, 0, 1, 0, 0, 1, 0, 1, 0,\n",
       "       1, 0, 1, 0, 1, 1, 0, 1, 0, 0, 0, 1, 0, 0, 0, 0, 0, 0, 1, 1, 1, 1,\n",
       "       0, 0, 0, 0, 1, 0, 1, 1, 1, 0, 0, 0, 0, 0, 0, 0, 1, 0, 0, 0, 1, 1,\n",
       "       0, 0, 0, 0, 1, 0, 0, 0, 1, 1, 0, 1, 0, 0, 0, 0, 1, 1, 1, 1, 0, 0,\n",
       "       0, 0, 0, 0, 0, 1, 0, 0, 0, 0, 1, 0, 0, 0, 0, 0, 0, 0, 1, 1, 0, 1,\n",
       "       0, 1, 0, 0, 0, 1, 1, 1, 0, 0, 0, 0, 0, 0, 0, 0, 1, 0, 1, 0, 0, 0,\n",
       "       1, 0, 0, 1, 0, 1, 0, 0, 0, 0, 0, 0, 0, 1, 0, 1, 0, 1, 0, 1, 1, 0,\n",
       "       0, 0, 1, 0, 1, 0, 0, 0, 0, 1, 1, 0, 1, 0, 0, 1, 1, 0, 0, 1, 0, 0,\n",
       "       1, 1, 0, 0, 0, 1, 0, 0, 1, 0, 0, 1, 0, 0, 0, 0, 0, 1, 1, 0, 0, 1,\n",
       "       0, 1, 0, 0, 1, 0, 1, 0, 0, 1, 0, 0, 1, 1, 1, 1, 1, 0, 1, 0, 0, 0])"
      ]
     },
     "execution_count": 28,
     "metadata": {},
     "output_type": "execute_result"
    }
   ],
   "source": [
    "svc.fit(train_data, train_labels)\n",
    "\n",
    "results = svc.predict(test_data)\n",
    "results"
   ]
  },
  {
   "cell_type": "code",
   "execution_count": 29,
   "metadata": {
    "execution": {
     "iopub.execute_input": "2021-04-05T00:14:00.711573Z",
     "iopub.status.busy": "2021-04-05T00:14:00.710672Z",
     "iopub.status.idle": "2021-04-05T00:14:00.717603Z",
     "shell.execute_reply": "2021-04-05T00:14:00.718164Z"
    },
    "papermill": {
     "duration": 0.080902,
     "end_time": "2021-04-05T00:14:00.718338",
     "exception": false,
     "start_time": "2021-04-05T00:14:00.637436",
     "status": "completed"
    },
    "tags": []
   },
   "outputs": [],
   "source": [
    "sub = pd.DataFrame()\n",
    "sub['PassengerId'] = test_ID\n",
    "sub['Survived'] = results\n",
    "sub.to_csv('submission.csv',index=False)"
   ]
  }
 ],
 "metadata": {
  "kernelspec": {
   "display_name": "Python 3",
   "language": "python",
   "name": "python3"
  },
  "language_info": {
   "codemirror_mode": {
    "name": "ipython",
    "version": 3
   },
   "file_extension": ".py",
   "mimetype": "text/x-python",
   "name": "python",
   "nbconvert_exporter": "python",
   "pygments_lexer": "ipython3",
   "version": "3.7.9"
  },
  "papermill": {
   "default_parameters": {},
   "duration": 52.435362,
   "end_time": "2021-04-05T00:14:01.682927",
   "environment_variables": {},
   "exception": null,
   "input_path": "__notebook__.ipynb",
   "output_path": "__notebook__.ipynb",
   "parameters": {},
   "start_time": "2021-04-05T00:13:09.247565",
   "version": "2.2.2"
  }
 },
 "nbformat": 4,
 "nbformat_minor": 4
}
